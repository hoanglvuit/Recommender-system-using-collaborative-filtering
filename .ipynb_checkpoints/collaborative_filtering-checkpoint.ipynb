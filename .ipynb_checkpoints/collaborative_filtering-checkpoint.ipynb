{
 "cells": [
  {
   "cell_type": "code",
   "execution_count": 10,
   "id": "a6fe4620-ca51-4905-8e48-419b7bc9f3b1",
   "metadata": {},
   "outputs": [],
   "source": [
    "import numpy as np \n",
    "import matplotlib.pyplot as plt \n",
    "import pandas as pd  \n",
    "import tensorflow as tf\n",
    "from tensorflow import keras \n"
   ]
  },
  {
   "cell_type": "markdown",
   "id": "f28c1ef0-4919-4b4e-b77b-fec4691da56e",
   "metadata": {},
   "source": [
    "##### The dataset to practice building a recommender system including 100,000 ratings and 3,600 tag applications applied to 9,000 movies by 600 users. It is available on the grouplens website. "
   ]
  },
  {
   "cell_type": "code",
   "execution_count": 11,
   "id": "efa5a643-0682-4562-a5c1-c6738c6cb335",
   "metadata": {},
   "outputs": [
    {
     "data": {
      "text/html": [
       "<div>\n",
       "<style scoped>\n",
       "    .dataframe tbody tr th:only-of-type {\n",
       "        vertical-align: middle;\n",
       "    }\n",
       "\n",
       "    .dataframe tbody tr th {\n",
       "        vertical-align: top;\n",
       "    }\n",
       "\n",
       "    .dataframe thead th {\n",
       "        text-align: right;\n",
       "    }\n",
       "</style>\n",
       "<table border=\"1\" class=\"dataframe\">\n",
       "  <thead>\n",
       "    <tr style=\"text-align: right;\">\n",
       "      <th></th>\n",
       "      <th>userId</th>\n",
       "      <th>movieId</th>\n",
       "      <th>rating</th>\n",
       "      <th>timestamp</th>\n",
       "    </tr>\n",
       "  </thead>\n",
       "  <tbody>\n",
       "    <tr>\n",
       "      <th>0</th>\n",
       "      <td>1</td>\n",
       "      <td>1</td>\n",
       "      <td>4.0</td>\n",
       "      <td>964982703</td>\n",
       "    </tr>\n",
       "    <tr>\n",
       "      <th>1</th>\n",
       "      <td>1</td>\n",
       "      <td>3</td>\n",
       "      <td>4.0</td>\n",
       "      <td>964981247</td>\n",
       "    </tr>\n",
       "    <tr>\n",
       "      <th>2</th>\n",
       "      <td>1</td>\n",
       "      <td>6</td>\n",
       "      <td>4.0</td>\n",
       "      <td>964982224</td>\n",
       "    </tr>\n",
       "    <tr>\n",
       "      <th>3</th>\n",
       "      <td>1</td>\n",
       "      <td>47</td>\n",
       "      <td>5.0</td>\n",
       "      <td>964983815</td>\n",
       "    </tr>\n",
       "    <tr>\n",
       "      <th>4</th>\n",
       "      <td>1</td>\n",
       "      <td>50</td>\n",
       "      <td>5.0</td>\n",
       "      <td>964982931</td>\n",
       "    </tr>\n",
       "  </tbody>\n",
       "</table>\n",
       "</div>"
      ],
      "text/plain": [
       "   userId  movieId  rating  timestamp\n",
       "0       1        1     4.0  964982703\n",
       "1       1        3     4.0  964981247\n",
       "2       1        6     4.0  964982224\n",
       "3       1       47     5.0  964983815\n",
       "4       1       50     5.0  964982931"
      ]
     },
     "execution_count": 11,
     "metadata": {},
     "output_type": "execute_result"
    }
   ],
   "source": [
    "data = pd.read_csv('ratings.csv') \n",
    "data.head(n=5)"
   ]
  },
  {
   "cell_type": "code",
   "execution_count": 12,
   "id": "7d559155-8829-4d72-a543-647368a0f85c",
   "metadata": {},
   "outputs": [
    {
     "name": "stdout",
     "output_type": "stream",
     "text": [
      "the number of movies 9724\n",
      "the number of users 610\n"
     ]
    },
    {
     "data": {
      "text/html": [
       "<div>\n",
       "<style scoped>\n",
       "    .dataframe tbody tr th:only-of-type {\n",
       "        vertical-align: middle;\n",
       "    }\n",
       "\n",
       "    .dataframe tbody tr th {\n",
       "        vertical-align: top;\n",
       "    }\n",
       "\n",
       "    .dataframe thead th {\n",
       "        text-align: right;\n",
       "    }\n",
       "</style>\n",
       "<table border=\"1\" class=\"dataframe\">\n",
       "  <thead>\n",
       "    <tr style=\"text-align: right;\">\n",
       "      <th></th>\n",
       "      <th>userId</th>\n",
       "      <th>movieId</th>\n",
       "      <th>rating</th>\n",
       "      <th>timestamp</th>\n",
       "      <th>user_index</th>\n",
       "      <th>movie_index</th>\n",
       "    </tr>\n",
       "  </thead>\n",
       "  <tbody>\n",
       "    <tr>\n",
       "      <th>0</th>\n",
       "      <td>1</td>\n",
       "      <td>1</td>\n",
       "      <td>4.0</td>\n",
       "      <td>964982703</td>\n",
       "      <td>0</td>\n",
       "      <td>0</td>\n",
       "    </tr>\n",
       "    <tr>\n",
       "      <th>1</th>\n",
       "      <td>1</td>\n",
       "      <td>3</td>\n",
       "      <td>4.0</td>\n",
       "      <td>964981247</td>\n",
       "      <td>0</td>\n",
       "      <td>1</td>\n",
       "    </tr>\n",
       "    <tr>\n",
       "      <th>2</th>\n",
       "      <td>1</td>\n",
       "      <td>6</td>\n",
       "      <td>4.0</td>\n",
       "      <td>964982224</td>\n",
       "      <td>0</td>\n",
       "      <td>2</td>\n",
       "    </tr>\n",
       "    <tr>\n",
       "      <th>3</th>\n",
       "      <td>1</td>\n",
       "      <td>47</td>\n",
       "      <td>5.0</td>\n",
       "      <td>964983815</td>\n",
       "      <td>0</td>\n",
       "      <td>3</td>\n",
       "    </tr>\n",
       "    <tr>\n",
       "      <th>4</th>\n",
       "      <td>1</td>\n",
       "      <td>50</td>\n",
       "      <td>5.0</td>\n",
       "      <td>964982931</td>\n",
       "      <td>0</td>\n",
       "      <td>4</td>\n",
       "    </tr>\n",
       "  </tbody>\n",
       "</table>\n",
       "</div>"
      ],
      "text/plain": [
       "   userId  movieId  rating  timestamp  user_index  movie_index\n",
       "0       1        1     4.0  964982703           0            0\n",
       "1       1        3     4.0  964981247           0            1\n",
       "2       1        6     4.0  964982224           0            2\n",
       "3       1       47     5.0  964983815           0            3\n",
       "4       1       50     5.0  964982931           0            4"
      ]
     },
     "execution_count": 12,
     "metadata": {},
     "output_type": "execute_result"
    }
   ],
   "source": [
    "users = data['userId'].unique() \n",
    "movies = data['movieId'].unique()\n",
    "\n",
    "num_users = len(users) \n",
    "num_movies = len(movies) \n",
    "\n",
    "\n",
    "userid_to_index = {user_id:idx for idx,user_id in enumerate(users)} # A dict comprises elements having the form user_id: idx \n",
    "movieid_to_index = {movie_id:idx for idx,movie_id in enumerate(movies)} # Because movies.max > len(movie) :D \n",
    "\n",
    "data['user_index'] = data['userId'].map(userid_to_index).astype(int) # mapping \n",
    "data['movie_index'] = data['movieId'].map(movieid_to_index).astype(int) \n",
    "\n",
    "print(f\"the number of movies {num_movies}\") \n",
    "print(f\"the number of users {num_users}\") \n",
    "\n",
    "data.head()"
   ]
  },
  {
   "cell_type": "markdown",
   "id": "722d64b8-59de-4080-be94-c5896e651a7f",
   "metadata": {},
   "source": [
    "##### Create y and R matrixs "
   ]
  },
  {
   "cell_type": "code",
   "execution_count": 13,
   "id": "2dfaa487-a594-4aa7-be4c-cd2123c6ddd3",
   "metadata": {},
   "outputs": [],
   "source": [
    "y = np.zeros((num_movies,num_users))\n",
    "for _,row in data.iterrows() : \n",
    "    num_movie = int(row['movie_index']) \n",
    "    num_user = int(row['user_index']) \n",
    "    y[num_movie,num_user] = row['rating'] \n",
    "\n",
    "R = np.where(y >0,1,0) \n"
   ]
  },
  {
   "cell_type": "markdown",
   "id": "3fe035f5-79f2-4ff2-a1e5-672f32ed0b79",
   "metadata": {},
   "source": [
    "$$J({\\mathbf{x}^{(0)},...,\\mathbf{x}^{(n_m-1)},\\mathbf{w}^{(0)},b^{(0)},...,\\mathbf{w}^{(n_u-1)},b^{(n_u-1)}})= \\left[ \\frac{1}{2}\\sum_{(i,j):r(i,j)=1}(\\mathbf{w}^{(j)} \\cdot \\mathbf{x}^{(i)} + b^{(j)} - y^{(i,j)})^2 \\right]\n",
    "+ \\underbrace{\\left[\n",
    "\\frac{\\lambda}{2}\n",
    "\\sum_{j=0}^{n_u-1}\\sum_{k=0}^{n-1}(\\mathbf{w}^{(j)}_k)^2\n",
    "+ \\frac{\\lambda}{2}\\sum_{i=0}^{n_m-1}\\sum_{k=0}^{n-1}(\\mathbf{x}_k^{(i)})^2\n",
    "\\right]}_{regularization}\n",
    "\\tag{1}$$"
   ]
  },
  {
   "cell_type": "code",
   "execution_count": 14,
   "id": "41fcea77-3296-4180-8a05-70a07b774c8d",
   "metadata": {},
   "outputs": [],
   "source": [
    "def cost_function(X,W,b,y,R,lambda_) : \n",
    "    \"\"\"\n",
    "    X(ndarray) : (num_movies,num_features) \n",
    "    W(ndarray) : (num_users,num_features) \n",
    "    b(ndarray) : (num_users,) \n",
    "    y(ndarray) : (num_movies,num_users) \n",
    "    R(ndarray) : (num_movies,num_users) \n",
    "    Return: \n",
    "    J(int)(tensor) : cost \n",
    "    \"\"\"\n",
    "    J = 0 \n",
    "    J = 1/2 * tf.reduce_sum((R*(tf.matmul(X,tf.transpose(W)) + b - y)**2)) + (lambda_/2) * ( tf.reduce_sum(W**2) + tf.reduce_sum(X**2))\n",
    "    return J \n",
    "\n"
   ]
  },
  {
   "cell_type": "markdown",
   "id": "ce105a02-4820-47b5-a1bb-411495bee8bd",
   "metadata": {},
   "source": [
    "##### Initialize variables. You have to decide what value of num_features is. "
   ]
  },
  {
   "cell_type": "code",
   "execution_count": 15,
   "id": "98733324-bfcc-4ebb-938f-3072d4f5b745",
   "metadata": {},
   "outputs": [],
   "source": [
    "num_features  = 80 \n",
    "\n",
    "tf.random.set_seed(28) \n",
    "\n",
    "W = tf.Variable(tf.random.normal((num_users,num_features), dtype = tf.float64, name = 'W'))\n",
    "X = tf.Variable(tf.random.normal((num_movies,num_features), dtype = tf.float64, name = 'X')) \n",
    "b = tf.Variable(tf.random.normal((1,num_users) , dtype = tf.float64, name = 'b'))\n",
    "\n",
    "\n",
    "optimizer = keras.optimizers.Adam(0.5) \n"
   ]
  },
  {
   "cell_type": "code",
   "execution_count": 17,
   "id": "38e60fc8-c568-48c3-a256-d46bbcad3a9f",
   "metadata": {},
   "outputs": [
    {
     "name": "stdout",
     "output_type": "stream",
     "text": [
      "Training loss at iteration 0: 4714530.7\n",
      "Training loss at iteration 20: 169267.2\n",
      "Training loss at iteration 40: 75210.4\n",
      "Training loss at iteration 60: 37317.3\n",
      "Training loss at iteration 80: 20531.6\n",
      "Training loss at iteration 100: 12277.9\n",
      "Training loss at iteration 120: 7805.5\n",
      "Training loss at iteration 140: 5218.6\n",
      "Training loss at iteration 160: 3649.6\n",
      "Training loss at iteration 180: 2660.4\n",
      "Training loss at iteration 200: 2017.0\n",
      "Training loss at iteration 220: 1587.7\n",
      "Training loss at iteration 240: 1294.7\n",
      "Training loss at iteration 260: 1091.5\n",
      "Training loss at iteration 280: 947.3\n",
      "Training loss at iteration 300: 843.9\n",
      "Training loss at iteration 320: 768.8\n",
      "Training loss at iteration 340: 716.9\n",
      "Training loss at iteration 360: 672.4\n",
      "Training loss at iteration 380: 641.0\n",
      "Training loss at iteration 400: 621.3\n",
      "Training loss at iteration 420: 608.3\n",
      "Training loss at iteration 440: 586.5\n",
      "Training loss at iteration 460: 580.3\n",
      "Training loss at iteration 480: 573.8\n",
      "Training loss at iteration 500: 566.8\n",
      "Training loss at iteration 520: 556.8\n",
      "Training loss at iteration 540: 557.1\n",
      "Training loss at iteration 560: 555.8\n",
      "Training loss at iteration 580: 552.3\n",
      "Training loss at iteration 600: 550.8\n",
      "Training loss at iteration 620: 558.3\n",
      "Training loss at iteration 640: 552.7\n",
      "Training loss at iteration 660: 540.5\n",
      "Training loss at iteration 680: 547.3\n",
      "Training loss at iteration 700: 578.7\n",
      "Training loss at iteration 720: 536.1\n",
      "Training loss at iteration 740: 548.8\n",
      "Training loss at iteration 760: 555.7\n",
      "Training loss at iteration 780: 566.1\n",
      "Training loss at iteration 800: 548.2\n",
      "Training loss at iteration 820: 532.3\n",
      "Training loss at iteration 840: 605.6\n",
      "Training loss at iteration 860: 567.6\n",
      "Training loss at iteration 880: 528.2\n",
      "Training loss at iteration 900: 538.3\n",
      "Training loss at iteration 920: 565.5\n",
      "Training loss at iteration 940: 541.9\n",
      "Training loss at iteration 960: 516.6\n",
      "Training loss at iteration 980: 647.7\n",
      "Training loss at iteration 1000: 528.4\n",
      "Training loss at iteration 1020: 642.0\n",
      "Training loss at iteration 1040: 618.1\n",
      "Training loss at iteration 1060: 552.8\n",
      "Training loss at iteration 1080: 550.6\n",
      "Training loss at iteration 1100: 544.2\n",
      "Training loss at iteration 1120: 577.6\n",
      "Training loss at iteration 1140: 547.3\n",
      "Training loss at iteration 1160: 530.7\n",
      "Training loss at iteration 1180: 680.2\n",
      "Training loss at iteration 1200: 525.2\n",
      "Training loss at iteration 1220: 637.8\n",
      "Training loss at iteration 1240: 620.2\n",
      "Training loss at iteration 1260: 526.7\n",
      "Training loss at iteration 1280: 870.8\n",
      "Training loss at iteration 1300: 550.1\n",
      "Training loss at iteration 1320: 536.5\n",
      "Training loss at iteration 1340: 665.8\n",
      "Training loss at iteration 1360: 548.2\n",
      "Training loss at iteration 1380: 514.0\n",
      "Training loss at iteration 1400: 1017.9\n",
      "Training loss at iteration 1420: 582.4\n",
      "Training loss at iteration 1440: 528.7\n",
      "Training loss at iteration 1460: 729.8\n",
      "Training loss at iteration 1480: 586.6\n",
      "Training loss at iteration 1500: 690.6\n",
      "Training loss at iteration 1520: 532.1\n",
      "Training loss at iteration 1540: 741.1\n",
      "Training loss at iteration 1560: 582.2\n",
      "Training loss at iteration 1580: 524.2\n",
      "Training loss at iteration 1600: 679.4\n",
      "Training loss at iteration 1620: 675.4\n",
      "Training loss at iteration 1640: 560.0\n",
      "Training loss at iteration 1660: 545.6\n",
      "Training loss at iteration 1680: 872.9\n",
      "Training loss at iteration 1700: 620.9\n",
      "Training loss at iteration 1720: 529.5\n",
      "Training loss at iteration 1740: 747.8\n",
      "Training loss at iteration 1760: 739.3\n",
      "Training loss at iteration 1780: 566.8\n",
      "Training loss at iteration 1800: 515.1\n",
      "Training loss at iteration 1820: 701.6\n",
      "Training loss at iteration 1840: 717.2\n",
      "Training loss at iteration 1860: 567.5\n",
      "Training loss at iteration 1880: 515.7\n",
      "Training loss at iteration 1900: 842.3\n",
      "Training loss at iteration 1920: 725.1\n",
      "Training loss at iteration 1940: 565.8\n",
      "Training loss at iteration 1960: 512.0\n",
      "Training loss at iteration 1980: 867.2\n"
     ]
    }
   ],
   "source": [
    "iterations = 2000\n",
    "lambda_ = 0.1 \n",
    "\n",
    "for i in range(iterations) : \n",
    "    with tf.GradientTape() as tape: \n",
    "        loss = cost_function(X,W,b,y,R,lambda_) \n",
    "    grads = tape.gradient(loss,[X,W,b]) \n",
    "    optimizer.apply_gradients(zip(grads,[X,W,b])) \n",
    "    if i % 20 == 0 : \n",
    "        print(f\"Training loss at iteration {i}: {loss:0.1f}\") \n"
   ]
  },
  {
   "cell_type": "code",
   "execution_count": null,
   "id": "baa52657-9444-4226-9cd5-ed5a8acafeb8",
   "metadata": {},
   "outputs": [],
   "source": [
    "##### predict ratings of user that have index 0 "
   ]
  },
  {
   "cell_type": "code",
   "execution_count": 39,
   "id": "ffc2370a-44e6-4cbb-a0af-7aaa50fcef86",
   "metadata": {},
   "outputs": [],
   "source": [
    "user_0 = tf.matmul(X,tf.transpose(W[:1,:])) + b[:,:1] "
   ]
  },
  {
   "cell_type": "code",
   "execution_count": 52,
   "id": "c6396593-7144-4918-b222-2258f4ff0036",
   "metadata": {},
   "outputs": [
    {
     "data": {
      "text/plain": [
       "<tf.Tensor: shape=(10, 1), dtype=float64, numpy=\n",
       "array([[4.67926623],\n",
       "       [4.23076635],\n",
       "       [3.94033501],\n",
       "       [4.93128297],\n",
       "       [3.89826064],\n",
       "       [3.90021243],\n",
       "       [5.03131744],\n",
       "       [4.30870542],\n",
       "       [3.4712942 ],\n",
       "       [3.83452667]])>"
      ]
     },
     "execution_count": 52,
     "metadata": {},
     "output_type": "execute_result"
    }
   ],
   "source": [
    "user_0[225:235]"
   ]
  },
  {
   "cell_type": "code",
   "execution_count": 51,
   "id": "2e29a2b9-7a17-4306-98db-2cdb7f63e6ee",
   "metadata": {},
   "outputs": [
    {
     "data": {
      "text/plain": [
       "array([[5.],\n",
       "       [4.],\n",
       "       [4.],\n",
       "       [5.],\n",
       "       [4.],\n",
       "       [4.],\n",
       "       [5.],\n",
       "       [0.],\n",
       "       [0.],\n",
       "       [0.]])"
      ]
     },
     "execution_count": 51,
     "metadata": {},
     "output_type": "execute_result"
    }
   ],
   "source": [
    "y[225:235,:1]"
   ]
  },
  {
   "cell_type": "markdown",
   "id": "543a19b4-0f35-4222-a6c2-b516b915899f",
   "metadata": {},
   "source": [
    "#### model predict ratings of user_0 for movie having index 232,233,234 are 4.3,3.4,3.8"
   ]
  },
  {
   "cell_type": "code",
   "execution_count": null,
   "id": "7600f06d-3c90-4b31-a957-1fdcfcbb211e",
   "metadata": {},
   "outputs": [],
   "source": []
  }
 ],
 "metadata": {
  "kernelspec": {
   "display_name": "Python 3 (ipykernel)",
   "language": "python",
   "name": "python3"
  },
  "language_info": {
   "codemirror_mode": {
    "name": "ipython",
    "version": 3
   },
   "file_extension": ".py",
   "mimetype": "text/x-python",
   "name": "python",
   "nbconvert_exporter": "python",
   "pygments_lexer": "ipython3",
   "version": "3.11.4"
  }
 },
 "nbformat": 4,
 "nbformat_minor": 5
}
